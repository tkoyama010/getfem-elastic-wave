{
 "cells": [
  {
   "cell_type": "code",
   "execution_count": 1,
   "id": "d06ae72a-04d4-45e4-955d-4545ac7cc957",
   "metadata": {},
   "outputs": [],
   "source": [
    "import getfem as gf\n",
    "import pyvista as pv\n",
    "import numpy as np"
   ]
  },
  {
   "cell_type": "code",
   "execution_count": 2,
   "id": "faaf72e0-acac-481c-8bce-74af3cf30c90",
   "metadata": {},
   "outputs": [],
   "source": [
    "m = gf.Mesh(\"cartesian\", np.array([0.0, 1.0]))"
   ]
  },
  {
   "cell_type": "code",
   "execution_count": 3,
   "id": "7245e600-2d84-4143-9141-b12a1c6ce74f",
   "metadata": {},
   "outputs": [],
   "source": [
    "m.export_to_vtk(\"m.vtk\", \"ascii\")"
   ]
  },
  {
   "cell_type": "code",
   "execution_count": null,
   "id": "fdf5cca4-9104-41b7-859d-c333762b9649",
   "metadata": {},
   "outputs": [],
   "source": []
  }
 ],
 "metadata": {
  "kernelspec": {
   "display_name": "Python 3 (ipykernel)",
   "language": "python",
   "name": "python3"
  },
  "language_info": {
   "codemirror_mode": {
    "name": "ipython",
    "version": 3
   },
   "file_extension": ".py",
   "mimetype": "text/x-python",
   "name": "python",
   "nbconvert_exporter": "python",
   "pygments_lexer": "ipython3",
   "version": "3.10.6"
  }
 },
 "nbformat": 4,
 "nbformat_minor": 5
}
